{
  "nbformat": 4,
  "nbformat_minor": 0,
  "metadata": {
    "colab": {
      "name": "Technical Docs V1.ipynb",
      "provenance": [],
      "authorship_tag": "ABX9TyNL31l/0KkglDQdttDYrYXt",
      "include_colab_link": true
    },
    "kernelspec": {
      "name": "python3",
      "display_name": "Python 3"
    },
    "language_info": {
      "name": "python"
    }
  },
  "cells": [
    {
      "cell_type": "markdown",
      "metadata": {
        "id": "view-in-github",
        "colab_type": "text"
      },
      "source": [
        "<a href=\"https://colab.research.google.com/github/basharathussain/CBSE-FA2021-Technical-Discussion/blob/main/Technical_Docs_V1.ipynb\" target=\"_parent\"><img src=\"https://colab.research.google.com/assets/colab-badge.svg\" alt=\"Open In Colab\"/></a>"
      ]
    },
    {
      "cell_type": "code",
      "metadata": {
        "id": "fEhDAKdz3jod",
        "colab": {
          "base_uri": "https://localhost:8080/",
          "height": 35
        },
        "outputId": "863d4b09-b848-4218-90d0-a5abfcb12d40"
      },
      "source": [
        "def hello():\n",
        "  return \"hello world!\"\n",
        "\n",
        "hello()"
      ],
      "execution_count": 1,
      "outputs": [
        {
          "output_type": "execute_result",
          "data": {
            "application/vnd.google.colaboratory.intrinsic+json": {
              "type": "string"
            },
            "text/plain": [
              "'hello world!'"
            ]
          },
          "metadata": {},
          "execution_count": 1
        }
      ]
    },
    {
      "cell_type": "markdown",
      "metadata": {
        "id": "91AAq-HM4mLV"
      },
      "source": [
        "# EDA"
      ]
    },
    {
      "cell_type": "code",
      "metadata": {
        "colab": {
          "base_uri": "https://localhost:8080/",
          "height": 35
        },
        "id": "OGDPnwgY4o4i",
        "outputId": "0c84fd59-4d95-4f6d-908f-e8e58a6bcce4"
      },
      "source": [
        "def sendEmail():\n",
        "  return \"Email sent successfully\"\n",
        "\n",
        "sendEmail()"
      ],
      "execution_count": 2,
      "outputs": [
        {
          "output_type": "execute_result",
          "data": {
            "application/vnd.google.colaboratory.intrinsic+json": {
              "type": "string"
            },
            "text/plain": [
              "'Email sent successfully'"
            ]
          },
          "metadata": {},
          "execution_count": 2
        }
      ]
    }
  ]
}